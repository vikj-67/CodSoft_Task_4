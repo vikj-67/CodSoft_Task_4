{
 "cells": [
  {
   "cell_type": "markdown",
   "id": "db60dfd2",
   "metadata": {},
   "source": [
    "# Task 4\n",
    "## Car sales prediction"
   ]
  },
  {
   "cell_type": "code",
   "execution_count": 1,
   "id": "81ce29d8",
   "metadata": {},
   "outputs": [],
   "source": [
    "import pandas as pd\n",
    "import numpy as np\n",
    "from sklearn.preprocessing import MinMaxScaler\n",
    "from tensorflow.keras.layers import Dense\n",
    "from tensorflow.keras.models import Sequential\n",
    "from sklearn.model_selection import train_test_split\n",
    "from sklearn.metrics import r2_score"
   ]
  },
  {
   "cell_type": "code",
   "execution_count": 2,
   "id": "e348976f",
   "metadata": {},
   "outputs": [
    {
     "name": "stdout",
     "output_type": "stream",
     "text": [
      "<class 'pandas.core.frame.DataFrame'>\n",
      "RangeIndex: 500 entries, 0 to 499\n",
      "Data columns (total 9 columns):\n",
      " #   Column               Non-Null Count  Dtype  \n",
      "---  ------               --------------  -----  \n",
      " 0   customer name        500 non-null    object \n",
      " 1   customer e-mail      500 non-null    object \n",
      " 2   country              500 non-null    object \n",
      " 3   gender               500 non-null    int64  \n",
      " 4   age                  500 non-null    float64\n",
      " 5   annual Salary        500 non-null    float64\n",
      " 6   credit card debt     500 non-null    float64\n",
      " 7   net worth            500 non-null    float64\n",
      " 8   car purchase amount  500 non-null    float64\n",
      "dtypes: float64(5), int64(1), object(3)\n",
      "memory usage: 35.3+ KB\n"
     ]
    }
   ],
   "source": [
    "data = pd.read_csv('car_purchasing.csv', encoding='ISO-8859-1')\n",
    "data.info()"
   ]
  },
  {
   "cell_type": "code",
   "execution_count": 3,
   "id": "b86a6ba4",
   "metadata": {},
   "outputs": [
    {
     "data": {
      "text/plain": [
       "customer name          0\n",
       "customer e-mail        0\n",
       "country                0\n",
       "gender                 0\n",
       "age                    0\n",
       "annual Salary          0\n",
       "credit card debt       0\n",
       "net worth              0\n",
       "car purchase amount    0\n",
       "dtype: int64"
      ]
     },
     "execution_count": 3,
     "metadata": {},
     "output_type": "execute_result"
    }
   ],
   "source": [
    "data.isnull().sum()"
   ]
  },
  {
   "cell_type": "code",
   "execution_count": 4,
   "id": "3a28df22",
   "metadata": {},
   "outputs": [],
   "source": [
    "data.drop(columns=['customer name', 'customer e-mail', 'country', 'gender'], inplace=True)"
   ]
  },
  {
   "cell_type": "code",
   "execution_count": 5,
   "id": "6751ec89",
   "metadata": {},
   "outputs": [],
   "source": [
    "X = data.drop('car purchase amount', axis=1)\n",
    "y = data['car purchase amount']"
   ]
  },
  {
   "cell_type": "code",
   "execution_count": 6,
   "id": "bb55bf08",
   "metadata": {},
   "outputs": [],
   "source": [
    "scaler = MinMaxScaler()\n",
    "X = scaler.fit_transform(X)\n",
    "y = scaler.fit_transform(y.values.reshape(-1, 1))"
   ]
  },
  {
   "cell_type": "code",
   "execution_count": 7,
   "id": "d2a28773",
   "metadata": {},
   "outputs": [],
   "source": [
    "X_train, X_test, y_train, y_test = train_test_split(X, y, test_size=0.2, random_state=0)"
   ]
  },
  {
   "cell_type": "code",
   "execution_count": 8,
   "id": "240c3862",
   "metadata": {},
   "outputs": [
    {
     "name": "stdout",
     "output_type": "stream",
     "text": [
      "Model: \"sequential\"\n",
      "_________________________________________________________________\n",
      " Layer (type)                Output Shape              Param #   \n",
      "=================================================================\n",
      " dense (Dense)               (None, 10)                50        \n",
      "                                                                 \n",
      " dense_1 (Dense)             (None, 10)                110       \n",
      "                                                                 \n",
      " dense_2 (Dense)             (None, 1)                 11        \n",
      "                                                                 \n",
      "=================================================================\n",
      "Total params: 171\n",
      "Trainable params: 171\n",
      "Non-trainable params: 0\n",
      "_________________________________________________________________\n"
     ]
    }
   ],
   "source": [
    "model = Sequential()\n",
    "model.add(Dense(10, activation='relu', input_dim=4))\n",
    "model.add(Dense(10, activation='relu'))\n",
    "model.add(Dense(1, activation='linear'))\n",
    "\n",
    "model.compile(optimizer='adam', loss='mean_squared_error', metrics=['mean_absolute_error'])\n",
    "model.summary()"
   ]
  },
  {
   "cell_type": "code",
   "execution_count": 9,
   "id": "bd42ee5c",
   "metadata": {},
   "outputs": [
    {
     "name": "stdout",
     "output_type": "stream",
     "text": [
      "Epoch 1/100\n",
      "10/10 [==============================] - 1s 32ms/step - loss: 0.0508 - mean_absolute_error: 0.2005 - val_loss: 0.0345 - val_mean_absolute_error: 0.1573\n",
      "Epoch 2/100\n",
      "10/10 [==============================] - 0s 6ms/step - loss: 0.0190 - mean_absolute_error: 0.1148 - val_loss: 0.0126 - val_mean_absolute_error: 0.0887\n",
      "Epoch 3/100\n",
      "10/10 [==============================] - 0s 6ms/step - loss: 0.0088 - mean_absolute_error: 0.0729 - val_loss: 0.0079 - val_mean_absolute_error: 0.0736\n",
      "Epoch 4/100\n",
      "10/10 [==============================] - 0s 6ms/step - loss: 0.0085 - mean_absolute_error: 0.0734 - val_loss: 0.0079 - val_mean_absolute_error: 0.0743\n",
      "Epoch 5/100\n",
      "10/10 [==============================] - 0s 6ms/step - loss: 0.0084 - mean_absolute_error: 0.0725 - val_loss: 0.0079 - val_mean_absolute_error: 0.0735\n",
      "Epoch 6/100\n",
      "10/10 [==============================] - 0s 6ms/step - loss: 0.0078 - mean_absolute_error: 0.0695 - val_loss: 0.0083 - val_mean_absolute_error: 0.0752\n",
      "Epoch 7/100\n",
      "10/10 [==============================] - 0s 6ms/step - loss: 0.0076 - mean_absolute_error: 0.0680 - val_loss: 0.0084 - val_mean_absolute_error: 0.0750\n",
      "Epoch 8/100\n",
      "10/10 [==============================] - 0s 6ms/step - loss: 0.0075 - mean_absolute_error: 0.0674 - val_loss: 0.0081 - val_mean_absolute_error: 0.0741\n",
      "Epoch 9/100\n",
      "10/10 [==============================] - 0s 6ms/step - loss: 0.0073 - mean_absolute_error: 0.0671 - val_loss: 0.0077 - val_mean_absolute_error: 0.0726\n",
      "Epoch 10/100\n",
      "10/10 [==============================] - 0s 6ms/step - loss: 0.0072 - mean_absolute_error: 0.0667 - val_loss: 0.0076 - val_mean_absolute_error: 0.0717\n",
      "Epoch 11/100\n",
      "10/10 [==============================] - 0s 6ms/step - loss: 0.0070 - mean_absolute_error: 0.0660 - val_loss: 0.0076 - val_mean_absolute_error: 0.0707\n",
      "Epoch 12/100\n",
      "10/10 [==============================] - 0s 6ms/step - loss: 0.0069 - mean_absolute_error: 0.0654 - val_loss: 0.0074 - val_mean_absolute_error: 0.0694\n",
      "Epoch 13/100\n",
      "10/10 [==============================] - 0s 6ms/step - loss: 0.0067 - mean_absolute_error: 0.0641 - val_loss: 0.0073 - val_mean_absolute_error: 0.0684\n",
      "Epoch 14/100\n",
      "10/10 [==============================] - 0s 6ms/step - loss: 0.0065 - mean_absolute_error: 0.0634 - val_loss: 0.0069 - val_mean_absolute_error: 0.0667\n",
      "Epoch 15/100\n",
      "10/10 [==============================] - 0s 6ms/step - loss: 0.0063 - mean_absolute_error: 0.0625 - val_loss: 0.0068 - val_mean_absolute_error: 0.0656\n",
      "Epoch 16/100\n",
      "10/10 [==============================] - 0s 6ms/step - loss: 0.0061 - mean_absolute_error: 0.0615 - val_loss: 0.0066 - val_mean_absolute_error: 0.0650\n",
      "Epoch 17/100\n",
      "10/10 [==============================] - 0s 6ms/step - loss: 0.0059 - mean_absolute_error: 0.0607 - val_loss: 0.0063 - val_mean_absolute_error: 0.0633\n",
      "Epoch 18/100\n",
      "10/10 [==============================] - 0s 6ms/step - loss: 0.0057 - mean_absolute_error: 0.0596 - val_loss: 0.0063 - val_mean_absolute_error: 0.0630\n",
      "Epoch 19/100\n",
      "10/10 [==============================] - 0s 6ms/step - loss: 0.0055 - mean_absolute_error: 0.0584 - val_loss: 0.0059 - val_mean_absolute_error: 0.0615\n",
      "Epoch 20/100\n",
      "10/10 [==============================] - 0s 6ms/step - loss: 0.0053 - mean_absolute_error: 0.0573 - val_loss: 0.0057 - val_mean_absolute_error: 0.0603\n",
      "Epoch 21/100\n",
      "10/10 [==============================] - 0s 6ms/step - loss: 0.0051 - mean_absolute_error: 0.0564 - val_loss: 0.0056 - val_mean_absolute_error: 0.0600\n",
      "Epoch 22/100\n",
      "10/10 [==============================] - 0s 6ms/step - loss: 0.0049 - mean_absolute_error: 0.0551 - val_loss: 0.0054 - val_mean_absolute_error: 0.0586\n",
      "Epoch 23/100\n",
      "10/10 [==============================] - 0s 6ms/step - loss: 0.0047 - mean_absolute_error: 0.0541 - val_loss: 0.0051 - val_mean_absolute_error: 0.0575\n",
      "Epoch 24/100\n",
      "10/10 [==============================] - 0s 6ms/step - loss: 0.0045 - mean_absolute_error: 0.0528 - val_loss: 0.0050 - val_mean_absolute_error: 0.0571\n",
      "Epoch 25/100\n",
      "10/10 [==============================] - 0s 6ms/step - loss: 0.0043 - mean_absolute_error: 0.0514 - val_loss: 0.0048 - val_mean_absolute_error: 0.0560\n",
      "Epoch 26/100\n",
      "10/10 [==============================] - 0s 6ms/step - loss: 0.0041 - mean_absolute_error: 0.0501 - val_loss: 0.0045 - val_mean_absolute_error: 0.0547\n",
      "Epoch 27/100\n",
      "10/10 [==============================] - 0s 6ms/step - loss: 0.0039 - mean_absolute_error: 0.0487 - val_loss: 0.0045 - val_mean_absolute_error: 0.0542\n",
      "Epoch 28/100\n",
      "10/10 [==============================] - 0s 6ms/step - loss: 0.0037 - mean_absolute_error: 0.0475 - val_loss: 0.0042 - val_mean_absolute_error: 0.0528\n",
      "Epoch 29/100\n",
      "10/10 [==============================] - 0s 6ms/step - loss: 0.0035 - mean_absolute_error: 0.0462 - val_loss: 0.0041 - val_mean_absolute_error: 0.0519\n",
      "Epoch 30/100\n",
      "10/10 [==============================] - 0s 6ms/step - loss: 0.0033 - mean_absolute_error: 0.0448 - val_loss: 0.0038 - val_mean_absolute_error: 0.0503\n",
      "Epoch 31/100\n",
      "10/10 [==============================] - 0s 6ms/step - loss: 0.0031 - mean_absolute_error: 0.0434 - val_loss: 0.0036 - val_mean_absolute_error: 0.0491\n",
      "Epoch 32/100\n",
      "10/10 [==============================] - 0s 6ms/step - loss: 0.0029 - mean_absolute_error: 0.0422 - val_loss: 0.0035 - val_mean_absolute_error: 0.0480\n",
      "Epoch 33/100\n",
      "10/10 [==============================] - 0s 6ms/step - loss: 0.0027 - mean_absolute_error: 0.0408 - val_loss: 0.0032 - val_mean_absolute_error: 0.0463\n",
      "Epoch 34/100\n",
      "10/10 [==============================] - 0s 6ms/step - loss: 0.0026 - mean_absolute_error: 0.0398 - val_loss: 0.0030 - val_mean_absolute_error: 0.0444\n",
      "Epoch 35/100\n",
      "10/10 [==============================] - 0s 6ms/step - loss: 0.0024 - mean_absolute_error: 0.0384 - val_loss: 0.0030 - val_mean_absolute_error: 0.0445\n",
      "Epoch 36/100\n",
      "10/10 [==============================] - 0s 6ms/step - loss: 0.0022 - mean_absolute_error: 0.0368 - val_loss: 0.0026 - val_mean_absolute_error: 0.0413\n",
      "Epoch 37/100\n",
      "10/10 [==============================] - 0s 6ms/step - loss: 0.0021 - mean_absolute_error: 0.0356 - val_loss: 0.0026 - val_mean_absolute_error: 0.0413\n",
      "Epoch 38/100\n",
      "10/10 [==============================] - 0s 6ms/step - loss: 0.0019 - mean_absolute_error: 0.0341 - val_loss: 0.0023 - val_mean_absolute_error: 0.0389\n",
      "Epoch 39/100\n",
      "10/10 [==============================] - 0s 6ms/step - loss: 0.0018 - mean_absolute_error: 0.0327 - val_loss: 0.0022 - val_mean_absolute_error: 0.0382\n",
      "Epoch 40/100\n",
      "10/10 [==============================] - 0s 6ms/step - loss: 0.0016 - mean_absolute_error: 0.0314 - val_loss: 0.0020 - val_mean_absolute_error: 0.0367\n",
      "Epoch 41/100\n",
      "10/10 [==============================] - 0s 5ms/step - loss: 0.0015 - mean_absolute_error: 0.0301 - val_loss: 0.0018 - val_mean_absolute_error: 0.0350\n",
      "Epoch 42/100\n",
      "10/10 [==============================] - 0s 6ms/step - loss: 0.0014 - mean_absolute_error: 0.0288 - val_loss: 0.0017 - val_mean_absolute_error: 0.0340\n",
      "Epoch 43/100\n",
      "10/10 [==============================] - 0s 6ms/step - loss: 0.0012 - mean_absolute_error: 0.0275 - val_loss: 0.0016 - val_mean_absolute_error: 0.0326\n",
      "Epoch 44/100\n",
      "10/10 [==============================] - 0s 6ms/step - loss: 0.0011 - mean_absolute_error: 0.0262 - val_loss: 0.0014 - val_mean_absolute_error: 0.0310\n",
      "Epoch 45/100\n",
      "10/10 [==============================] - 0s 6ms/step - loss: 0.0010 - mean_absolute_error: 0.0250 - val_loss: 0.0014 - val_mean_absolute_error: 0.0302\n",
      "Epoch 46/100\n",
      "10/10 [==============================] - 0s 6ms/step - loss: 9.2428e-04 - mean_absolute_error: 0.0236 - val_loss: 0.0012 - val_mean_absolute_error: 0.0284\n",
      "Epoch 47/100\n",
      "10/10 [==============================] - 0s 6ms/step - loss: 8.3742e-04 - mean_absolute_error: 0.0226 - val_loss: 0.0012 - val_mean_absolute_error: 0.0280\n",
      "Epoch 48/100\n",
      "10/10 [==============================] - 0s 6ms/step - loss: 7.5378e-04 - mean_absolute_error: 0.0214 - val_loss: 9.9546e-04 - val_mean_absolute_error: 0.0257\n",
      "Epoch 49/100\n",
      "10/10 [==============================] - 0s 6ms/step - loss: 6.7387e-04 - mean_absolute_error: 0.0202 - val_loss: 9.4507e-04 - val_mean_absolute_error: 0.0249\n",
      "Epoch 50/100\n",
      "10/10 [==============================] - 0s 6ms/step - loss: 6.1688e-04 - mean_absolute_error: 0.0193 - val_loss: 9.1123e-04 - val_mean_absolute_error: 0.0244\n"
     ]
    },
    {
     "name": "stdout",
     "output_type": "stream",
     "text": [
      "Epoch 51/100\n",
      "10/10 [==============================] - 0s 6ms/step - loss: 5.6252e-04 - mean_absolute_error: 0.0186 - val_loss: 7.5645e-04 - val_mean_absolute_error: 0.0222\n",
      "Epoch 52/100\n",
      "10/10 [==============================] - 0s 6ms/step - loss: 4.8646e-04 - mean_absolute_error: 0.0171 - val_loss: 7.1612e-04 - val_mean_absolute_error: 0.0214\n",
      "Epoch 53/100\n",
      "10/10 [==============================] - 0s 6ms/step - loss: 4.4013e-04 - mean_absolute_error: 0.0163 - val_loss: 6.5729e-04 - val_mean_absolute_error: 0.0205\n",
      "Epoch 54/100\n",
      "10/10 [==============================] - 0s 6ms/step - loss: 3.9227e-04 - mean_absolute_error: 0.0153 - val_loss: 5.9174e-04 - val_mean_absolute_error: 0.0194\n",
      "Epoch 55/100\n",
      "10/10 [==============================] - 0s 6ms/step - loss: 3.4897e-04 - mean_absolute_error: 0.0145 - val_loss: 5.3045e-04 - val_mean_absolute_error: 0.0182\n",
      "Epoch 56/100\n",
      "10/10 [==============================] - 0s 6ms/step - loss: 3.1738e-04 - mean_absolute_error: 0.0138 - val_loss: 4.5614e-04 - val_mean_absolute_error: 0.0168\n",
      "Epoch 57/100\n",
      "10/10 [==============================] - 0s 6ms/step - loss: 2.8824e-04 - mean_absolute_error: 0.0131 - val_loss: 4.9706e-04 - val_mean_absolute_error: 0.0174\n",
      "Epoch 58/100\n",
      "10/10 [==============================] - 0s 6ms/step - loss: 2.6158e-04 - mean_absolute_error: 0.0127 - val_loss: 3.7781e-04 - val_mean_absolute_error: 0.0150\n",
      "Epoch 59/100\n",
      "10/10 [==============================] - 0s 6ms/step - loss: 2.2835e-04 - mean_absolute_error: 0.0116 - val_loss: 4.0852e-04 - val_mean_absolute_error: 0.0155\n",
      "Epoch 60/100\n",
      "10/10 [==============================] - 0s 6ms/step - loss: 2.0890e-04 - mean_absolute_error: 0.0112 - val_loss: 3.1379e-04 - val_mean_absolute_error: 0.0135\n",
      "Epoch 61/100\n",
      "10/10 [==============================] - 0s 6ms/step - loss: 1.9460e-04 - mean_absolute_error: 0.0108 - val_loss: 3.5927e-04 - val_mean_absolute_error: 0.0143\n",
      "Epoch 62/100\n",
      "10/10 [==============================] - 0s 6ms/step - loss: 1.7176e-04 - mean_absolute_error: 0.0100 - val_loss: 2.7769e-04 - val_mean_absolute_error: 0.0124\n",
      "Epoch 63/100\n",
      "10/10 [==============================] - 0s 6ms/step - loss: 1.5333e-04 - mean_absolute_error: 0.0095 - val_loss: 2.6551e-04 - val_mean_absolute_error: 0.0120\n",
      "Epoch 64/100\n",
      "10/10 [==============================] - 0s 6ms/step - loss: 1.3900e-04 - mean_absolute_error: 0.0089 - val_loss: 2.5151e-04 - val_mean_absolute_error: 0.0116\n",
      "Epoch 65/100\n",
      "10/10 [==============================] - 0s 6ms/step - loss: 1.2746e-04 - mean_absolute_error: 0.0085 - val_loss: 2.3660e-04 - val_mean_absolute_error: 0.0111\n",
      "Epoch 66/100\n",
      "10/10 [==============================] - 0s 6ms/step - loss: 1.1618e-04 - mean_absolute_error: 0.0081 - val_loss: 1.9894e-04 - val_mean_absolute_error: 0.0099\n",
      "Epoch 67/100\n",
      "10/10 [==============================] - 0s 5ms/step - loss: 1.1144e-04 - mean_absolute_error: 0.0080 - val_loss: 2.2684e-04 - val_mean_absolute_error: 0.0106\n",
      "Epoch 68/100\n",
      "10/10 [==============================] - 0s 6ms/step - loss: 1.0109e-04 - mean_absolute_error: 0.0075 - val_loss: 1.8277e-04 - val_mean_absolute_error: 0.0093\n",
      "Epoch 69/100\n",
      "10/10 [==============================] - 0s 6ms/step - loss: 8.9172e-05 - mean_absolute_error: 0.0070 - val_loss: 1.6636e-04 - val_mean_absolute_error: 0.0087\n",
      "Epoch 70/100\n",
      "10/10 [==============================] - 0s 6ms/step - loss: 8.1905e-05 - mean_absolute_error: 0.0067 - val_loss: 1.6214e-04 - val_mean_absolute_error: 0.0085\n",
      "Epoch 71/100\n",
      "10/10 [==============================] - 0s 6ms/step - loss: 7.5156e-05 - mean_absolute_error: 0.0063 - val_loss: 1.4438e-04 - val_mean_absolute_error: 0.0079\n",
      "Epoch 72/100\n",
      "10/10 [==============================] - 0s 6ms/step - loss: 6.9057e-05 - mean_absolute_error: 0.0060 - val_loss: 1.4948e-04 - val_mean_absolute_error: 0.0080\n",
      "Epoch 73/100\n",
      "10/10 [==============================] - 0s 6ms/step - loss: 7.0100e-05 - mean_absolute_error: 0.0060 - val_loss: 1.2195e-04 - val_mean_absolute_error: 0.0070\n",
      "Epoch 74/100\n",
      "10/10 [==============================] - 0s 6ms/step - loss: 5.8330e-05 - mean_absolute_error: 0.0054 - val_loss: 1.2308e-04 - val_mean_absolute_error: 0.0070\n",
      "Epoch 75/100\n",
      "10/10 [==============================] - 0s 6ms/step - loss: 5.4175e-05 - mean_absolute_error: 0.0051 - val_loss: 1.0902e-04 - val_mean_absolute_error: 0.0064\n",
      "Epoch 76/100\n",
      "10/10 [==============================] - 0s 6ms/step - loss: 4.9604e-05 - mean_absolute_error: 0.0049 - val_loss: 1.0415e-04 - val_mean_absolute_error: 0.0062\n",
      "Epoch 77/100\n",
      "10/10 [==============================] - 0s 6ms/step - loss: 4.6494e-05 - mean_absolute_error: 0.0046 - val_loss: 9.4915e-05 - val_mean_absolute_error: 0.0057\n",
      "Epoch 78/100\n",
      "10/10 [==============================] - 0s 6ms/step - loss: 4.2320e-05 - mean_absolute_error: 0.0043 - val_loss: 9.7363e-05 - val_mean_absolute_error: 0.0058\n",
      "Epoch 79/100\n",
      "10/10 [==============================] - 0s 6ms/step - loss: 3.9873e-05 - mean_absolute_error: 0.0042 - val_loss: 9.1233e-05 - val_mean_absolute_error: 0.0054\n",
      "Epoch 80/100\n",
      "10/10 [==============================] - 0s 6ms/step - loss: 3.6585e-05 - mean_absolute_error: 0.0039 - val_loss: 8.1051e-05 - val_mean_absolute_error: 0.0050\n",
      "Epoch 81/100\n",
      "10/10 [==============================] - 0s 6ms/step - loss: 3.4040e-05 - mean_absolute_error: 0.0038 - val_loss: 7.8818e-05 - val_mean_absolute_error: 0.0048\n",
      "Epoch 82/100\n",
      "10/10 [==============================] - 0s 6ms/step - loss: 3.1953e-05 - mean_absolute_error: 0.0036 - val_loss: 7.8782e-05 - val_mean_absolute_error: 0.0048\n",
      "Epoch 83/100\n",
      "10/10 [==============================] - 0s 6ms/step - loss: 3.0172e-05 - mean_absolute_error: 0.0034 - val_loss: 6.8718e-05 - val_mean_absolute_error: 0.0043\n",
      "Epoch 84/100\n",
      "10/10 [==============================] - 0s 6ms/step - loss: 2.8326e-05 - mean_absolute_error: 0.0033 - val_loss: 6.7083e-05 - val_mean_absolute_error: 0.0041\n",
      "Epoch 85/100\n",
      "10/10 [==============================] - 0s 6ms/step - loss: 2.5494e-05 - mean_absolute_error: 0.0030 - val_loss: 6.5107e-05 - val_mean_absolute_error: 0.0040\n",
      "Epoch 86/100\n",
      "10/10 [==============================] - 0s 6ms/step - loss: 2.4002e-05 - mean_absolute_error: 0.0029 - val_loss: 6.2843e-05 - val_mean_absolute_error: 0.0038\n",
      "Epoch 87/100\n",
      "10/10 [==============================] - 0s 6ms/step - loss: 2.2478e-05 - mean_absolute_error: 0.0027 - val_loss: 6.0542e-05 - val_mean_absolute_error: 0.0036\n",
      "Epoch 88/100\n",
      "10/10 [==============================] - 0s 6ms/step - loss: 2.1518e-05 - mean_absolute_error: 0.0026 - val_loss: 5.5578e-05 - val_mean_absolute_error: 0.0034\n",
      "Epoch 89/100\n",
      "10/10 [==============================] - 0s 6ms/step - loss: 2.0044e-05 - mean_absolute_error: 0.0025 - val_loss: 5.6013e-05 - val_mean_absolute_error: 0.0033\n",
      "Epoch 90/100\n",
      "10/10 [==============================] - 0s 6ms/step - loss: 1.8927e-05 - mean_absolute_error: 0.0023 - val_loss: 5.3961e-05 - val_mean_absolute_error: 0.0031\n",
      "Epoch 91/100\n",
      "10/10 [==============================] - 0s 6ms/step - loss: 1.8456e-05 - mean_absolute_error: 0.0023 - val_loss: 4.9635e-05 - val_mean_absolute_error: 0.0030\n",
      "Epoch 92/100\n",
      "10/10 [==============================] - 0s 5ms/step - loss: 1.7184e-05 - mean_absolute_error: 0.0022 - val_loss: 5.0203e-05 - val_mean_absolute_error: 0.0029\n",
      "Epoch 93/100\n",
      "10/10 [==============================] - 0s 5ms/step - loss: 1.6189e-05 - mean_absolute_error: 0.0021 - val_loss: 4.8536e-05 - val_mean_absolute_error: 0.0028\n",
      "Epoch 94/100\n",
      "10/10 [==============================] - 0s 5ms/step - loss: 1.5669e-05 - mean_absolute_error: 0.0020 - val_loss: 4.6401e-05 - val_mean_absolute_error: 0.0027\n",
      "Epoch 95/100\n",
      "10/10 [==============================] - 0s 5ms/step - loss: 1.4959e-05 - mean_absolute_error: 0.0019 - val_loss: 4.3956e-05 - val_mean_absolute_error: 0.0026\n",
      "Epoch 96/100\n",
      "10/10 [==============================] - 0s 5ms/step - loss: 1.4481e-05 - mean_absolute_error: 0.0019 - val_loss: 4.4674e-05 - val_mean_absolute_error: 0.0025\n",
      "Epoch 97/100\n",
      "10/10 [==============================] - 0s 5ms/step - loss: 1.3562e-05 - mean_absolute_error: 0.0017 - val_loss: 4.4477e-05 - val_mean_absolute_error: 0.0025\n",
      "Epoch 98/100\n"
     ]
    },
    {
     "name": "stdout",
     "output_type": "stream",
     "text": [
      "10/10 [==============================] - 0s 5ms/step - loss: 1.2981e-05 - mean_absolute_error: 0.0016 - val_loss: 4.1769e-05 - val_mean_absolute_error: 0.0023\n",
      "Epoch 99/100\n",
      "10/10 [==============================] - 0s 5ms/step - loss: 1.2601e-05 - mean_absolute_error: 0.0016 - val_loss: 4.0166e-05 - val_mean_absolute_error: 0.0022\n",
      "Epoch 100/100\n",
      "10/10 [==============================] - 0s 5ms/step - loss: 1.1966e-05 - mean_absolute_error: 0.0015 - val_loss: 3.9328e-05 - val_mean_absolute_error: 0.0022\n"
     ]
    }
   ],
   "source": [
    "history = model.fit(X_train, y_train, epochs=100, validation_split=0.2)"
   ]
  },
  {
   "cell_type": "code",
   "execution_count": 10,
   "id": "72483266",
   "metadata": {},
   "outputs": [
    {
     "name": "stdout",
     "output_type": "stream",
     "text": [
      "4/4 [==============================] - 0s 2ms/step\n"
     ]
    }
   ],
   "source": [
    "y_pred = model.predict(X_test)"
   ]
  },
  {
   "cell_type": "code",
   "execution_count": 11,
   "id": "7fdbc5fc",
   "metadata": {},
   "outputs": [
    {
     "name": "stdout",
     "output_type": "stream",
     "text": [
      "R2 Score= 0.9994623593676762\n"
     ]
    }
   ],
   "source": [
    "R2 = r2_score(y_test, y_pred)\n",
    "print(\"R2 Score=\", R2)"
   ]
  }
 ],
 "metadata": {
  "kernelspec": {
   "display_name": "Python 3 (ipykernel)",
   "language": "python",
   "name": "python3"
  },
  "language_info": {
   "codemirror_mode": {
    "name": "ipython",
    "version": 3
   },
   "file_extension": ".py",
   "mimetype": "text/x-python",
   "name": "python",
   "nbconvert_exporter": "python",
   "pygments_lexer": "ipython3",
   "version": "3.10.9"
  }
 },
 "nbformat": 4,
 "nbformat_minor": 5
}
